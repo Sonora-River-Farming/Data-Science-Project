{
 "cells": [
  {
   "cell_type": "markdown",
   "metadata": {},
   "source": [
    "First, we are going to import the libraries needed to perform data ingestion."
   ]
  },
  {
   "cell_type": "code",
   "execution_count": 1,
   "metadata": {},
   "outputs": [],
   "source": [
    "# Import libraries\n",
    "from pathlib import Path\n",
    "import typer\n",
    "from loguru import logger\n",
    "from tqdm import tqdm\n",
    "import os\n",
    "import urllib.request\n",
    "import requests\n",
    "import datetime\n",
    "import pandas as pd"
   ]
  },
  {
   "cell_type": "markdown",
   "metadata": {},
   "source": [
    "Imports the predefined paths of the \"PROCESSED_DATA_DIR\" and \"RAW_DATA_DIR\" folders, configured in the config.py file"
   ]
  },
  {
   "cell_type": "code",
   "execution_count": 2,
   "metadata": {},
   "outputs": [
    {
     "name": "stderr",
     "output_type": "stream",
     "text": [
      "\u001b[32m2024-09-30 12:01:51.482\u001b[0m | \u001b[1mINFO    \u001b[0m | \u001b[36mmodules.config\u001b[0m:\u001b[36m<module>\u001b[0m:\u001b[36m11\u001b[0m - \u001b[1mPROJ_ROOT path is: /mnt/Data/Documents/Unison/1 Semestre/Ingeniería de Características/Projects/Sonora-River-Farming/Data-Science-Project\u001b[0m\n"
     ]
    }
   ],
   "source": [
    "from modules.config import PROCESSED_DATA_DIR, RAW_DATA_DIR"
   ]
  },
  {
   "cell_type": "code",
   "execution_count": 7,
   "metadata": {},
   "outputs": [
    {
     "data": {
      "text/plain": [
       "PosixPath('/mnt/Data/Documents/Unison/1 Semestre/Ingeniería de Características/Projects/Sonora-River-Farming/Data-Science-Project/data/raw')"
      ]
     },
     "execution_count": 7,
     "metadata": {},
     "output_type": "execute_result"
    }
   ],
   "source": [
    "RAW_DATA_DIR"
   ]
  },
  {
   "cell_type": "markdown",
   "metadata": {},
   "source": [
    "The download_file function downloads a file from an external link and saves it to a specific path. It will first check if the file does not exist, and will download it, and a text file will be generated with a brief description of the data source, the download date and the data download link."
   ]
  },
  {
   "cell_type": "code",
   "execution_count": 19,
   "metadata": {},
   "outputs": [],
   "source": [
    "def download_file(url: str, output_path: Path):\n",
    "    \"\"\"\n",
    "    Downloads a file from an external link and saves it to a specific path.\n",
    "    \"\"\"\n",
    "    SOURCE = url\n",
    "    SUBDIR = output_path.parent\n",
    "    FILE_NAME = output_path.name\n",
    "\n",
    "    logger.info(f\"Starting download from {SOURCE}\")\n",
    "    response = requests.get(SOURCE, stream=True)\n",
    "    total_size = int(response.headers.get('content-length', 0))    \n",
    "\n",
    "    # Check if the file already exists\n",
    "    if not os.path.exists(output_path):\n",
    "        logger.info(f\"File {FILE_NAME} not found. Starting download...\")\n",
    "\n",
    "        # Create subdirectory if it does not exist\n",
    "        if not os.path.exists(SUBDIR):\n",
    "            os.makedirs(SUBDIR)\n",
    "            logger.info(f\"Created directory {SUBDIR}\")\n",
    "\n",
    "        # Download the file from the link provided\n",
    "        urllib.request.urlretrieve(SOURCE, output_path)\n",
    "        logger.success(f\"Download completed: {output_path}\")\n",
    "\n",
    "        with open(output_path, 'wb') as file, tqdm(\n",
    "            desc=\"Downloading\",\n",
    "            total=total_size,\n",
    "            unit='B',\n",
    "            unit_scale=True,\n",
    "            unit_divisor=1024,\n",
    "        ) as bar:\n",
    "            for data in response.iter_content(1024):\n",
    "                bar.update(len(data))\n",
    "                file.write(data)\n",
    "\n",
    "        logger.success(f\"Download completed: {output_path}\")\n",
    "\n",
    "        INFO_FILE_NAME = FILE_NAME.split('.')[0] + \".txt\"\n",
    "        INFO_FILE_PATH = os.path.join(SUBDIR, INFO_FILE_NAME)\n",
    "        logger.info(f\"Creating {INFO_FILE_NAME} file with dataset details\")\n",
    "\n",
    "        with open(INFO_FILE_PATH, 'w') as f:\n",
    "            f.write(\"Information from water quality monitoring sites operated by Conagua throughout the country\\n\\n\")\n",
    "            info = (\n",
    "                \"The information includes data on lotic, lentic, coastal, and underground water bodies, covering physicochemical \"\n",
    "                \"and microbiological parameters according to the type of water body. These data are organized in an Excel file \"\n",
    "                \"with three spreadsheets.\\n\\n\"\n",
    "\n",
    "                \"First sheet: Contains details about the monitoring sites, such as key, name, aquifer, state, municipality, type \"\n",
    "                \"of water body, latitude, longitude, among others.\\n\\n\"\n",
    "\n",
    "                \"Second sheet: Presents the results of the monitoring, grouped by site, type of water body, date of completion, \"\n",
    "                \"and the physicochemical and microbiological parameters recorded.\\n\\n\"\n",
    "\n",
    "                \"Third sheet: Offers a dictionary that describes each parameter, indicating its key, name, and unit of measurement.\\n\\n\"\n",
    "\n",
    "                \"The data was obtained from the National Water Commission (https://www.gob.mx/conagua/articulos/calidad-del-agua) \"\n",
    "                \"dated August 6, 2024.\"\n",
    "            )\n",
    "            f.write(info + '\\n')\n",
    "            f.write(\"Downloaded on \" + datetime.datetime.now().strftime(\"%Y-%m-%d %H:%M:%S\") + \"\\n\")\n",
    "            f.write(\"From: \" + SOURCE + \"\\n\")\n",
    "            f.write(\"Name: \" + FILE_NAME + \"\\n\")\n",
    "        logger.success(f\"Info file {INFO_FILE_NAME} created at {SUBDIR}\")\n",
    "    else:\n",
    "        logger.info(f\"File {FILE_NAME} already exists in the directory {SUBDIR}. Skipping download. \")\n",
    "\n"
   ]
  },
  {
   "cell_type": "code",
   "execution_count": 15,
   "metadata": {},
   "outputs": [
    {
     "name": "stdout",
     "output_type": "stream",
     "text": [
      "\u001b[32m2024-09-30 12:40:32.898\u001b[0m | \u001b[1mINFO    \u001b[0m | \u001b[36m__main__\u001b[0m:\u001b[36mdownload_file\u001b[0m:\u001b[36m9\u001b[0m - \u001b[1mStarting download from https://files.conagua.gob.mx/aguasnacionales/TODOS%20LOS%20MONITOREOS.xlsb\u001b[0m\n",
      "\u001b[32m2024-09-30 12:40:33.447\u001b[0m | \u001b[1mINFO    \u001b[0m | \u001b[36m__main__\u001b[0m:\u001b[36mdownload_file\u001b[0m:\u001b[36m15\u001b[0m - \u001b[1mFile water_quality_data.xlsb not found. Starting download...\u001b[0m\n",
      "\u001b[32m2024-09-30 12:40:46.539\u001b[0m | \u001b[32m\u001b[1mSUCCESS \u001b[0m | \u001b[36m__main__\u001b[0m:\u001b[36mdownload_file\u001b[0m:\u001b[36m24\u001b[0m - \u001b[32m\u001b[1mDownload completed: /mnt/Data/Documents/Unison/1 Semestre/Ingeniería de Características/Projects/Sonora-River-Farming/Data-Science-Project/data/raw/water_quality_data.xlsb\u001b[0m\n"
     ]
    },
    {
     "name": "stderr",
     "output_type": "stream",
     "text": [
      "Downloading: 100%|██████████| 97.4M/97.4M [00:22<00:00, 4.63MB/s]\n"
     ]
    },
    {
     "name": "stdout",
     "output_type": "stream",
     "text": [
      "\u001b[32m2024-09-30 12:41:08.876\u001b[0m | \u001b[32m\u001b[1mSUCCESS \u001b[0m | \u001b[36m__main__\u001b[0m:\u001b[36mdownload_file\u001b[0m:\u001b[36m37\u001b[0m - \u001b[32m\u001b[1mDownload completed: /mnt/Data/Documents/Unison/1 Semestre/Ingeniería de Características/Projects/Sonora-River-Farming/Data-Science-Project/data/raw/water_quality_data.xlsb\u001b[0m\n",
      "\u001b[32m2024-09-30 12:41:08.877\u001b[0m | \u001b[1mINFO    \u001b[0m | \u001b[36m__main__\u001b[0m:\u001b[36mdownload_file\u001b[0m:\u001b[36m41\u001b[0m - \u001b[1mCreating water_quality_data.txt file with dataset details\u001b[0m\n",
      "\u001b[32m2024-09-30 12:41:08.880\u001b[0m | \u001b[32m\u001b[1mSUCCESS \u001b[0m | \u001b[36m__main__\u001b[0m:\u001b[36mdownload_file\u001b[0m:\u001b[36m65\u001b[0m - \u001b[32m\u001b[1mInfo file water_quality_data.txt created at /mnt/Data/Documents/Unison/1 Semestre/Ingeniería de Características/Projects/Sonora-River-Farming/Data-Science-Project/data/raw\u001b[0m\n"
     ]
    }
   ],
   "source": [
    "SOURCE = \"https://files.conagua.gob.mx/aguasnacionales/TODOS%20LOS%20MONITOREOS.xlsb\"\n",
    "OUTPUT_PATH = RAW_DATA_DIR / 'water_quality_data.xlsb'\n",
    "download_file(url = SOURCE, output_path=OUTPUT_PATH)"
   ]
  }
 ],
 "metadata": {
  "kernelspec": {
   "display_name": "venv",
   "language": "python",
   "name": "python3"
  },
  "language_info": {
   "codemirror_mode": {
    "name": "ipython",
    "version": 3
   },
   "file_extension": ".py",
   "mimetype": "text/x-python",
   "name": "python",
   "nbconvert_exporter": "python",
   "pygments_lexer": "ipython3",
   "version": "3.12.7"
  }
 },
 "nbformat": 4,
 "nbformat_minor": 2
}
